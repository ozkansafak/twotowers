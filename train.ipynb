{
 "cells": [
  {
   "cell_type": "markdown",
   "id": "07571078-6989-41ad-9dfe-9887a8eeef25",
   "metadata": {},
   "source": [
    "### 1. Train the Two Tower network"
   ]
  },
  {
   "cell_type": "code",
   "execution_count": 1,
   "id": "4cab4a4a-102a-4692-84d9-b1cec9c41ebf",
   "metadata": {},
   "outputs": [],
   "source": [
    "%load_ext autoreload\n",
    "%autoreload 2\n",
    "# %matplotlib inline\n",
    "\n",
    "from utils.utils import *\n",
    "from utils.utils_train import *\n",
    "os.environ[\"TOKENIZERS_PARALLELISM\"] = \"false\"  # Suppress huggingface warning"
   ]
  },
  {
   "cell_type": "markdown",
   "id": "46726e7e-8bcd-4763-84bf-23234cc35ea7",
   "metadata": {},
   "source": [
    "### Load Embeddings"
   ]
  },
  {
   "cell_type": "code",
   "execution_count": 2,
   "id": "4a28dee1-b44e-4ad7-a6e9-d2775343e5c2",
   "metadata": {},
   "outputs": [
    {
     "name": "stdout",
     "output_type": "stream",
     "text": [
      "loaded (queries, query_embeddings, product_embeddings) from  output/raw_queries.pkl\n",
      "84373\n",
      "qb_train.shape: torch.Size([20560, 768])\n",
      "qb_test.shape: torch.Size([5140, 768])\n"
     ]
    }
   ],
   "source": [
    "# Load data\n",
    "queries, query_embeddings, product_embeddings = load_raw_queries()\n",
    "\n",
    "# load ids_toys from disk\n",
    "with open('output/ids_toys.pkl', 'rb') as file:\n",
    "    ids_toys = pickle.load(file)\n",
    "    print(len(ids_toys))\n",
    "    ids_present = [_id for _id in ids_toys if _id in query_embeddings]\n",
    "\n",
    "# Assemble qb & xb input embeddings\n",
    "qb = torch.stack([torch.tensor(query_embeddings[_id]) for _id in ids_present])\n",
    "xb = torch.tensor(np.array([product_embeddings[_id] for _id in ids_present]))\n",
    "\n",
    "### Split Dataset into Train and Test Sets\n",
    "(qb_train, qb_test), (xb_train, xb_test), (idx_train, idx_test) = shuffle_and_split(qb, xb)\n",
    "print('qb_train.shape:', qb_train.shape)\n",
    "print('qb_test.shape:', qb_test.shape)\n"
   ]
  },
  {
   "cell_type": "markdown",
   "id": "694b2106-c195-4f28-a5ce-a15f46ec44aa",
   "metadata": {},
   "source": [
    "### Two-Tower Pytorch Model"
   ]
  },
  {
   "cell_type": "code",
   "execution_count": 3,
   "id": "2c8be274-fba4-4bd6-acbc-f400d0fc4eee",
   "metadata": {},
   "outputs": [],
   "source": [
    "d = hidden_dim = qb.shape[-1]\n",
    "learning_rate = 0.0001\n",
    "\n",
    "# Initialize the network\n",
    "model = TwoTowerNetwork(d, hidden_dim, learning_rate=learning_rate)\n"
   ]
  },
  {
   "cell_type": "code",
   "execution_count": 4,
   "id": "918abdbb-c929-43aa-b850-12940a35e2e6",
   "metadata": {},
   "outputs": [
    {
     "name": "stdout",
     "output_type": "stream",
     "text": [
      "recall@3  = 0.016                    \n",
      "recall@3  = 0.016                    \n",
      "recall@3  = 0.041                    \n",
      "recall@3  = 0.066                    \n",
      "recall@3  = 0.062                    \n",
      "recall@3  = 0.041                    \n",
      "recall@3  = 0.049                    \n",
      "recall@3  = 0.073                    \n",
      "recall@3  = 0.089                    \n",
      "recall@3  = 0.088                    \n",
      "recall@3  = 0.087                    \n",
      "recall@3  = 0.094                    \n",
      "recall@3  = 0.107                    \n",
      "recall@3  = 0.127                    \n",
      "recall@3  = 0.132                    \n",
      "recall@3  = 0.134                    \n",
      "recall@3  = 0.152                    \n",
      "recall@3  = 0.171                    \n",
      "recall@3  = 0.182                    \n",
      "recall@3  = 0.197                    \n"
     ]
    },
    {
     "data": {
      "image/png": "[encoded data removed]",
      "text/plain": [
       "<Figure size 900x350 with 1 Axes>"
      ]
     },
     "metadata": {},
     "output_type": "display_data"
    }
   ],
   "source": [
    "## TRAIN\n",
    "import torch\n",
    "import torch.nn as nn\n",
    "\n",
    "# Hyperparameters\n",
    "num_epochs = 5\n",
    "batch_size = 1024\n",
    "\n",
    "for i in range(20):\n",
    "    model.train(qb_train, xb_train, num_epochs=num_epochs, batch_size=batch_size)\n",
    "    write_output_embeddings(model, qb_test, xb_test) \n",
    "    # print(f\"epoch no:{model.epochs[-1]:.0f}  \", end='')\n",
    "    os.system('cd utils && python3 utils_infer.py')\n",
    "\n",
    "model.plot(qb_train, batch_size)\n"
   ]
  },
  {
   "cell_type": "code",
   "execution_count": null,
   "id": "99e8e819-3f9e-4b6d-a425-079824d51f04",
   "metadata": {},
   "outputs": [],
   "source": [
    "recall@3  = 0.016                    \n",
    "recall@3  = 0.066                    \n",
    "recall@3  = 0.041                    \n",
    "recall@3  = 0.073                    \n",
    "recall@3  = 0.088                    \n",
    "recall@3  = 0.094                    \n",
    "recall@3  = 0.127                    \n",
    "recall@3  = 0.134                    \n",
    "recall@3  = 0.171                    \n",
    "recall@3  = 0.197                    \n",
    "recall@3  = 0.209                    \n",
    "recall@3  = 0.229                    \n",
    "recall@3  = 0.270                    \n",
    "recall@3  = 0.280                    \n",
    "recall@3  = 0.274                    \n",
    "recall@3  = 0.282                    \n",
    "recall@3  = 0.308                    \n",
    "recall@3  = 0.298                    \n",
    "recall@3  = 0.326                    \n",
    "recall@3  = 0.361     \n"
   ]
  },
  {
   "cell_type": "markdown",
   "id": "4bcfa3f3-1127-4928-a2f2-d2531b60232b",
   "metadata": {},
   "source": [
    "### The End"
   ]
  },
  {
   "cell_type": "code",
   "execution_count": 3,
   "id": "e641eb90-9f8d-487d-a2c8-e2066835e60f",
   "metadata": {},
   "outputs": [
    {
     "name": "stdout",
     "output_type": "stream",
     "text": [
      "84373\n"
     ]
    }
   ],
   "source": [
    "# Load queries, ids_toys, ids_present\n",
    "with open('output/raw_queries.pkl', 'rb') as file:\n",
    "    queries, _, _ = pickle.load(file)\n",
    "\n",
    "with open('output/ids_toys.pkl', 'rb') as file:\n",
    "    ids_toys = pickle.load(file)\n",
    "    ids_present = [_id for _id in ids_toys if _id in query_embeddings]\n"
   ]
  },
  {
   "cell_type": "code",
   "execution_count": 5,
   "id": "d226e030-ccf8-4d8a-a2cf-424e6f1d75c8",
   "metadata": {},
   "outputs": [
    {
     "data": {
      "text/plain": [
       "\"I need to buy a Super-duper Tutu/Cape/Mask set in size 4-6 for my 4-6-year-old. It's a 3-piece set perfect for little Superheroines and Rock Stars!\""
      ]
     },
     "execution_count": 5,
     "metadata": {},
     "output_type": "execute_result"
    }
   ],
   "source": [
    "top_ids = [ids_present[idx_test[i]] for i in I[0]]\n",
    "names = [info[_id]['name'] for _id in top_ids]\n",
    "details = [info[_id]['details'] for _id in top_ids]\n",
    "description = [info[_id]['description'] for _id in top_ids]\n",
    "queries[ids_present[idx_test[0]]]"
   ]
  },
  {
   "cell_type": "code",
   "execution_count": null,
   "id": "30a7b84f-d36f-4669-8f19-ac35230a1561",
   "metadata": {},
   "outputs": [],
   "source": []
  },
  {
   "cell_type": "code",
   "execution_count": null,
   "id": "8199ad65-449e-4a6f-8c5b-82a342b11248",
   "metadata": {},
   "outputs": [],
   "source": []
  },
  {
   "cell_type": "code",
   "execution_count": null,
   "id": "f5923109-43cb-48f2-bd08-e5aaa69c04ac",
   "metadata": {},
   "outputs": [],
   "source": []
  },
  {
   "cell_type": "code",
   "execution_count": null,
   "id": "530fafa0-0cbe-4e41-b916-d612079d0c18",
   "metadata": {},
   "outputs": [],
   "source": []
  },
  {
   "cell_type": "code",
   "execution_count": null,
   "id": "7e99c46a-fbf4-40ef-bc89-38f8f393a224",
   "metadata": {},
   "outputs": [],
   "source": []
  },
  {
   "cell_type": "code",
   "execution_count": null,
   "id": "231588e9-3575-485e-8add-8e2558cb02da",
   "metadata": {},
   "outputs": [],
   "source": []
  },
  {
   "cell_type": "code",
   "execution_count": null,
   "id": "08b27e48-a25f-489a-8670-c6ffbf37cf17",
   "metadata": {},
   "outputs": [],
   "source": []
  },
  {
   "cell_type": "code",
   "execution_count": null,
   "id": "eb144b44-7a20-4017-a6f5-7fdba93b635e",
   "metadata": {},
   "outputs": [],
   "source": []
  },
  {
   "cell_type": "code",
   "execution_count": null,
   "id": "80e1c628-7ca9-4096-bec8-0fbfb0e62db4",
   "metadata": {},
   "outputs": [],
   "source": []
  },
  {
   "cell_type": "code",
   "execution_count": null,
   "id": "fb1603bb-0a04-431d-a3cf-ed9d9149b34e",
   "metadata": {},
   "outputs": [],
   "source": []
  },
  {
   "cell_type": "code",
   "execution_count": null,
   "id": "07ccfec4-d164-48df-b1ad-a05100acb4fc",
   "metadata": {},
   "outputs": [],
   "source": []
  },
  {
   "cell_type": "code",
   "execution_count": null,
   "id": "c0a938f7-7136-4192-b18e-d5b438078168",
   "metadata": {},
   "outputs": [],
   "source": []
  }
 ],
 "metadata": {
  "kernelspec": {
   "display_name": "Python 3 (ipykernel)",
   "language": "python",
   "name": "python3"
  },
  "language_info": {
   "codemirror_mode": {
    "name": "ipython",
    "version": 3
   },
   "file_extension": ".py",
   "mimetype": "text/x-python",
   "name": "python",
   "nbconvert_exporter": "python",
   "pygments_lexer": "ipython3",
   "version": "3.10.9"
  }
 },
 "nbformat": 4,
 "nbformat_minor": 5
}
