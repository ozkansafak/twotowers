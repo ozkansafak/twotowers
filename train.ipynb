{
 "cells": [
  {
   "cell_type": "code",
   "execution_count": 1,
   "id": "4cab4a4a-102a-4692-84d9-b1cec9c41ebf",
   "metadata": {},
   "outputs": [],
   "source": [
    "%load_ext autoreload\n",
    "%autoreload 2\n",
    "from utils.utils import *\n",
    "from utils.utils_train import *\n",
    "from utils.utils_imports import *"
   ]
  },
  {
   "cell_type": "code",
   "execution_count": 2,
   "id": "4a28dee1-b44e-4ad7-a6e9-d2775343e5c2",
   "metadata": {
    "scrolled": true
   },
   "outputs": [
    {
     "name": "stdout",
     "output_type": "stream",
     "text": [
      "loaded (queries, query_embeddings, product_embeddings) from  output/raw_queries.pkl\n",
      "len(ids_toys): 84373\n",
      "len(qb_train): 20560\n",
      "len(qb_test): 20560\n",
      "dropout         : 0.1\n",
      "learning_rate   : 0.001\n",
      "label_smoothing : 0.35\n",
      "batch_size      : 1024\n",
      "eval_iter       : 1\n",
      "\n",
      "TwoTowerNetwork(\n",
      "  (qb_tower): Sequential(\n",
      "    (0): Linear(in_features=768, out_features=768, bias=False)\n",
      "    (1): ReLU()\n",
      "    (2): Dropout(p=0.1, inplace=False)\n",
      "    (3): Linear(in_features=768, out_features=768, bias=False)\n",
      "  )\n",
      "  (xb_tower): Sequential(\n",
      "    (0): Linear(in_features=768, out_features=768, bias=False)\n",
      "    (1): ReLU()\n",
      "    (2): Dropout(p=0.1, inplace=False)\n",
      "    (3): Linear(in_features=768, out_features=768, bias=False)\n",
      "  )\n",
      "  (mlp): Sequential(\n",
      "    (0): ReLU()\n",
      "    (1): Dropout(p=0.1, inplace=False)\n",
      "    (2): Linear(in_features=1536, out_features=1, bias=False)\n",
      "    (3): Dropout(p=0.1, inplace=False)\n",
      "  )\n",
      ")\n",
      "num_params:2.36 million \n"
     ]
    }
   ],
   "source": [
    "# Load SBERT Embeddings\n",
    "queries, query_embeddings, product_embeddings = load_raw_queries()\n",
    "\n",
    "# load ids_toys from disk\n",
    "with open('output/ids_toys.pkl', 'rb') as file:\n",
    "    ids_toys = pickle.load(file)\n",
    "    print(f\"len(ids_toys): {len(ids_toys)}\")\n",
    "    ids_present = [_id for _id in ids_toys if _id in query_embeddings]\n",
    "\n",
    "# Assemble qb & xb input embeddings\n",
    "qb = torch.stack([torch.tensor(query_embeddings[_id]) for _id in ids_present])\n",
    "xb = torch.tensor(np.array([product_embeddings[_id] for _id in ids_present]))\n",
    "\n",
    "# Split Dataset into Train and Test\n",
    "(qb_train, qb_test), (xb_train, xb_test), (idx_train, idx_test) = shuffle_and_split(qb, xb, split=0.8, seed=12)\n",
    "print(f'len(qb_train): {len(qb_train)}')\n",
    "print(f'len(qb_test): {len(qb_train)}')\n",
    "\n",
    "# Two-Tower Pytorch Model\n",
    "d = qb_train.shape[-1]\n",
    "list_recall3 = []\n",
    "list_test_epochs = []\n",
    "\n",
    "# Initialize the network\n",
    "model = TwoTowerNetwork(d)\n"
   ]
  },
  {
   "cell_type": "code",
   "execution_count": 3,
   "id": "918abdbb-c929-43aa-b850-12940a35e2e6",
   "metadata": {
    "scrolled": true
   },
   "outputs": [
    {
     "name": "stdout",
     "output_type": "stream",
     "text": [
      "out of fused_trainset: (262144, 768) (262144,) 1.05 sec\n",
      "forward pass b:0.0 (torch.Size([262144, 768])): Runtime: 0 min 3 sec\n",
      "epoch 0.025, train_loss: 0.69406\n",
      "out of fused_trainset: (262144, 768) (262144,) 1.10 sec\n",
      "forward pass b:0.025 (torch.Size([262144, 768])): Runtime: 0 min 3 sec\n",
      "epoch 0.050, train_loss: 0.63778\n",
      "out of fused_trainset: (262144, 768) (262144,) 0.95 sec\n",
      "forward pass b:0.05 (torch.Size([262144, 768])): Runtime: 0 min 3 sec\n",
      "epoch 0.075, train_loss: 0.55744\n",
      "out of fused_trainset: (262144, 768) (262144,) 1.07 sec\n",
      "forward pass b:0.075 (torch.Size([262144, 768])): Runtime: 0 min 3 sec\n",
      "epoch 0.100, train_loss: 0.44193\n",
      "out of fused_trainset: (262144, 768) (262144,) 1.03 sec\n",
      "forward pass b:0.1 (torch.Size([262144, 768])): Runtime: 0 min 3 sec\n",
      "epoch 0.125, train_loss: 0.30601\n",
      "out of fused_trainset: (262144, 768) (262144,) 1.07 sec\n",
      "forward pass b:0.125 (torch.Size([262144, 768])): Runtime: 0 min 3 sec\n",
      "epoch 0.150, train_loss: 0.18875\n",
      "out of fused_trainset: (262144, 768) (262144,) 1.16 sec\n",
      "forward pass b:0.15 (torch.Size([262144, 768])): Runtime: 0 min 3 sec\n",
      "epoch 0.175, train_loss: 0.11602\n",
      "out of fused_trainset: (262144, 768) (262144,) 1.07 sec\n",
      "forward pass b:0.175 (torch.Size([262144, 768])): Runtime: 0 min 3 sec\n",
      "epoch 0.200, train_loss: 0.08833\n",
      "out of fused_trainset: (262144, 768) (262144,) 1.07 sec\n",
      "forward pass b:0.2 (torch.Size([262144, 768])): Runtime: 0 min 3 sec\n",
      "epoch 0.225, train_loss: 0.08263\n",
      "out of fused_trainset: (262144, 768) (262144,) 1.06 sec\n",
      "forward pass b:0.225 (torch.Size([262144, 768])): Runtime: 0 min 3 sec\n",
      "epoch 0.250, train_loss: 0.08362\n",
      "out of fused_trainset: (262144, 768) (262144,) 1.05 sec\n",
      "forward pass b:0.25 (torch.Size([262144, 768])): Runtime: 0 min 3 sec\n",
      "epoch 0.275, train_loss: 0.08616\n",
      "out of fused_trainset: (262144, 768) (262144,) 1.06 sec\n",
      "forward pass b:0.275 (torch.Size([262144, 768])): Runtime: 0 min 3 sec\n",
      "epoch 0.300, train_loss: 0.08821\n",
      "out of fused_trainset: (262144, 768) (262144,) 1.13 sec\n",
      "forward pass b:0.3 (torch.Size([262144, 768])): Runtime: 0 min 3 sec\n",
      "epoch 0.325, train_loss: 0.09083\n",
      "out of fused_trainset: (262144, 768) (262144,) 1.08 sec\n",
      "forward pass b:0.325 (torch.Size([262144, 768])): Runtime: 0 min 3 sec\n",
      "epoch 0.350, train_loss: 0.09362\n",
      "out of fused_trainset: (262144, 768) (262144,) 1.06 sec\n",
      "forward pass b:0.35 (torch.Size([262144, 768])): Runtime: 0 min 3 sec\n",
      "epoch 0.375, train_loss: 0.09439\n",
      "out of fused_trainset: (262144, 768) (262144,) 1.03 sec\n",
      "forward pass b:0.375 (torch.Size([262144, 768])): Runtime: 0 min 3 sec\n",
      "epoch 0.400, train_loss: 0.09809\n",
      "out of fused_trainset: (262144, 768) (262144,) 1.12 sec\n",
      "forward pass b:0.4 (torch.Size([262144, 768])): Runtime: 0 min 3 sec\n",
      "epoch 0.425, train_loss: 0.10039\n",
      "out of fused_trainset: (262144, 768) (262144,) 1.07 sec\n",
      "forward pass b:0.425 (torch.Size([262144, 768])): Runtime: 0 min 3 sec\n",
      "epoch 0.450, train_loss: 0.10125\n",
      "out of fused_trainset: (262144, 768) (262144,) 1.16 sec\n",
      "forward pass b:0.45 (torch.Size([262144, 768])): Runtime: 0 min 3 sec\n",
      "epoch 0.475, train_loss: 0.10263\n",
      "out of fused_trainset: (262144, 768) (262144,) 1.00 sec\n",
      "forward pass b:0.475 (torch.Size([262144, 768])): Runtime: 0 min 3 sec\n",
      "epoch 0.500, train_loss: 0.10528\n",
      "out of fused_trainset: (262144, 768) (262144,) 1.10 sec\n",
      "forward pass b:0.5 (torch.Size([262144, 768])): Runtime: 0 min 3 sec\n",
      "epoch 0.525, train_loss: 0.10588\n",
      "out of fused_trainset: (262144, 768) (262144,) 1.04 sec\n",
      "forward pass b:0.525 (torch.Size([262144, 768])): Runtime: 0 min 3 sec\n",
      "epoch 0.550, train_loss: 0.10537\n",
      "out of fused_trainset: (262144, 768) (262144,) 1.13 sec\n",
      "forward pass b:0.55 (torch.Size([262144, 768])): Runtime: 0 min 3 sec\n",
      "epoch 0.575, train_loss: 0.10710\n",
      "out of fused_trainset: (262144, 768) (262144,) 1.17 sec\n",
      "forward pass b:0.575 (torch.Size([262144, 768])): Runtime: 0 min 3 sec\n",
      "epoch 0.600, train_loss: 0.10735\n",
      "out of fused_trainset: (262144, 768) (262144,) 1.08 sec\n",
      "forward pass b:0.6 (torch.Size([262144, 768])): Runtime: 0 min 3 sec\n",
      "epoch 0.625, train_loss: 0.10744\n",
      "out of fused_trainset: (262144, 768) (262144,) 1.08 sec\n",
      "forward pass b:0.625 (torch.Size([262144, 768])): Runtime: 0 min 3 sec\n",
      "epoch 0.650, train_loss: 0.10694\n",
      "out of fused_trainset: (262144, 768) (262144,) 1.08 sec\n",
      "forward pass b:0.65 (torch.Size([262144, 768])): Runtime: 0 min 3 sec\n",
      "epoch 0.675, train_loss: 0.10685\n",
      "out of fused_trainset: (262144, 768) (262144,) 1.09 sec\n",
      "forward pass b:0.675 (torch.Size([262144, 768])): Runtime: 0 min 3 sec\n",
      "epoch 0.700, train_loss: 0.10780\n",
      "out of fused_trainset: (262144, 768) (262144,) 1.06 sec\n",
      "forward pass b:0.7 (torch.Size([262144, 768])): Runtime: 0 min 3 sec\n",
      "epoch 0.725, train_loss: 0.10612\n",
      "out of fused_trainset: (262144, 768) (262144,) 1.15 sec\n",
      "forward pass b:0.725 (torch.Size([262144, 768])): Runtime: 0 min 3 sec\n",
      "epoch 0.750, train_loss: 0.10698\n",
      "out of fused_trainset: (262144, 768) (262144,) 1.09 sec\n",
      "forward pass b:0.75 (torch.Size([262144, 768])): Runtime: 0 min 3 sec\n",
      "epoch 0.775, train_loss: 0.10454\n",
      "out of fused_trainset: (262144, 768) (262144,) 1.10 sec\n",
      "forward pass b:0.775 (torch.Size([262144, 768])): Runtime: 0 min 3 sec\n",
      "epoch 0.800, train_loss: 0.10524\n",
      "out of fused_trainset: (262144, 768) (262144,) 1.06 sec\n",
      "forward pass b:0.8 (torch.Size([262144, 768])): Runtime: 0 min 3 sec\n",
      "epoch 0.825, train_loss: 0.10371\n",
      "out of fused_trainset: (262144, 768) (262144,) 1.14 sec\n",
      "forward pass b:0.825 (torch.Size([262144, 768])): Runtime: 0 min 3 sec\n",
      "epoch 0.850, train_loss: 0.10084\n",
      "out of fused_trainset: (262144, 768) (262144,) 1.06 sec\n",
      "forward pass b:0.85 (torch.Size([262144, 768])): Runtime: 0 min 3 sec\n",
      "epoch 0.875, train_loss: 0.10229\n",
      "out of fused_trainset: (262144, 768) (262144,) 1.16 sec\n",
      "forward pass b:0.875 (torch.Size([262144, 768])): Runtime: 0 min 3 sec\n",
      "epoch 0.900, train_loss: 0.10127\n",
      "out of fused_trainset: (262144, 768) (262144,) 1.01 sec\n",
      "forward pass b:0.9 (torch.Size([262144, 768])): Runtime: 0 min 3 sec\n",
      "epoch 0.925, train_loss: 0.10060\n",
      "out of fused_trainset: (262144, 768) (262144,) 1.13 sec\n",
      "forward pass b:0.925 (torch.Size([262144, 768])): Runtime: 0 min 3 sec\n",
      "epoch 0.950, train_loss: 0.10008\n",
      "out of fused_trainset: (262144, 768) (262144,) 1.06 sec\n",
      "forward pass b:0.95 (torch.Size([262144, 768])): Runtime: 0 min 3 sec\n",
      "epoch 0.975, train_loss: 0.09930\n",
      "out of fused_trainset: (262144, 768) (262144,) 1.14 sec\n",
      "forward pass b:0.975 (torch.Size([262144, 768])): Runtime: 0 min 3 sec\n",
      "epoch 1.000, train_loss: 0.09808\n",
      "Epoch [1.00], Loss: 0.0981\n"
     ]
    },
    {
     "data": {
      "image/png": "[encoded data removed]",
      "text/plain": [
       "<Figure size 600x220 with 1 Axes>"
      ]
     },
     "metadata": {},
     "output_type": "display_data"
    },
    {
     "name": "stdout",
     "output_type": "stream",
     "text": [
      "out of fused_trainset: (262144, 768) (262144,) 1.15 sec\n",
      "forward pass b:0.0 (torch.Size([262144, 768])): Runtime: 0 min 3 sec\n",
      "epoch 1.025, train_loss: 0.09598\n",
      "out of fused_trainset: (262144, 768) (262144,) 1.11 sec\n",
      "forward pass b:0.025 (torch.Size([262144, 768])): Runtime: 0 min 3 sec\n",
      "epoch 1.050, train_loss: 0.09517\n",
      "out of fused_trainset: (262144, 768) (262144,) 1.09 sec\n",
      "forward pass b:0.05 (torch.Size([262144, 768])): Runtime: 0 min 3 sec\n",
      "epoch 1.075, train_loss: 0.09462\n",
      "out of fused_trainset: (262144, 768) (262144,) 1.11 sec\n",
      "forward pass b:0.075 (torch.Size([262144, 768])): Runtime: 0 min 3 sec\n",
      "epoch 1.100, train_loss: 0.09348\n",
      "out of fused_trainset: (262144, 768) (262144,) 1.11 sec\n",
      "forward pass b:0.1 (torch.Size([262144, 768])): Runtime: 0 min 3 sec\n",
      "epoch 1.125, train_loss: 0.09250\n",
      "out of fused_trainset: (262144, 768) (262144,) 1.08 sec\n",
      "forward pass b:0.125 (torch.Size([262144, 768])): Runtime: 0 min 3 sec\n",
      "epoch 1.150, train_loss: 0.09156\n",
      "out of fused_trainset: (262144, 768) (262144,) 1.07 sec\n",
      "forward pass b:0.15 (torch.Size([262144, 768])): Runtime: 0 min 3 sec\n",
      "epoch 1.175, train_loss: 0.09123\n",
      "out of fused_trainset: (262144, 768) (262144,) 1.15 sec\n",
      "forward pass b:0.175 (torch.Size([262144, 768])): Runtime: 0 min 3 sec\n",
      "epoch 1.200, train_loss: 0.09078\n",
      "out of fused_trainset: (262144, 768) (262144,) 1.11 sec\n",
      "forward pass b:0.2 (torch.Size([262144, 768])): Runtime: 0 min 3 sec\n",
      "epoch 1.225, train_loss: 0.08902\n",
      "out of fused_trainset: (262144, 768) (262144,) 1.19 sec\n",
      "forward pass b:0.225 (torch.Size([262144, 768])): Runtime: 0 min 3 sec\n",
      "epoch 1.250, train_loss: 0.08876\n",
      "out of fused_trainset: (262144, 768) (262144,) 1.08 sec\n",
      "forward pass b:0.25 (torch.Size([262144, 768])): Runtime: 0 min 3 sec\n",
      "epoch 1.275, train_loss: 0.08771\n",
      "out of fused_trainset: (262144, 768) (262144,) 1.16 sec\n",
      "forward pass b:0.275 (torch.Size([262144, 768])): Runtime: 0 min 3 sec\n",
      "epoch 1.300, train_loss: 0.08684\n",
      "out of fused_trainset: (262144, 768) (262144,) 1.12 sec\n",
      "forward pass b:0.3 (torch.Size([262144, 768])): Runtime: 0 min 3 sec\n",
      "epoch 1.325, train_loss: 0.08623\n",
      "out of fused_trainset: (262144, 768) (262144,) 1.11 sec\n",
      "forward pass b:0.325 (torch.Size([262144, 768])): Runtime: 0 min 3 sec\n",
      "epoch 1.350, train_loss: 0.08538\n",
      "out of fused_trainset: (262144, 768) (262144,) 1.09 sec\n",
      "forward pass b:0.35 (torch.Size([262144, 768])): Runtime: 0 min 3 sec\n",
      "epoch 1.375, train_loss: 0.08539\n",
      "out of fused_trainset: (262144, 768) (262144,) 1.16 sec\n",
      "forward pass b:0.375 (torch.Size([262144, 768])): Runtime: 0 min 3 sec\n",
      "epoch 1.400, train_loss: 0.08454\n",
      "out of fused_trainset: (262144, 768) (262144,) 1.08 sec\n",
      "forward pass b:0.4 (torch.Size([262144, 768])): Runtime: 0 min 3 sec\n",
      "epoch 1.425, train_loss: 0.08409\n",
      "out of fused_trainset: (262144, 768) (262144,) 1.20 sec\n",
      "forward pass b:0.425 (torch.Size([262144, 768])): Runtime: 0 min 3 sec\n",
      "epoch 1.450, train_loss: 0.08239\n",
      "out of fused_trainset: (262144, 768) (262144,) 1.03 sec\n",
      "forward pass b:0.45 (torch.Size([262144, 768])): Runtime: 0 min 3 sec\n",
      "epoch 1.475, train_loss: 0.08311\n",
      "out of fused_trainset: (262144, 768) (262144,) 1.13 sec\n",
      "forward pass b:0.475 (torch.Size([262144, 768])): Runtime: 0 min 3 sec\n",
      "epoch 1.500, train_loss: 0.08251\n",
      "out of fused_trainset: (262144, 768) (262144,) 1.19 sec\n",
      "forward pass b:0.5 (torch.Size([262144, 768])): Runtime: 0 min 3 sec\n",
      "epoch 1.525, train_loss: 0.08290\n",
      "out of fused_trainset: (262144, 768) (262144,) 1.15 sec\n",
      "forward pass b:0.525 (torch.Size([262144, 768])): Runtime: 0 min 3 sec\n",
      "epoch 1.550, train_loss: 0.08261\n",
      "out of fused_trainset: (262144, 768) (262144,) 1.12 sec\n",
      "forward pass b:0.55 (torch.Size([262144, 768])): Runtime: 0 min 3 sec\n",
      "epoch 1.575, train_loss: 0.08241\n",
      "out of fused_trainset: (262144, 768) (262144,) 1.11 sec\n",
      "forward pass b:0.575 (torch.Size([262144, 768])): Runtime: 0 min 3 sec\n",
      "epoch 1.600, train_loss: 0.08271\n",
      "out of fused_trainset: (262144, 768) (262144,) 1.10 sec\n",
      "forward pass b:0.6 (torch.Size([262144, 768])): Runtime: 0 min 3 sec\n",
      "epoch 1.625, train_loss: 0.08309\n",
      "out of fused_trainset: (262144, 768) (262144,) 1.09 sec\n",
      "forward pass b:0.625 (torch.Size([262144, 768])): Runtime: 0 min 3 sec\n",
      "epoch 1.650, train_loss: 0.08266\n",
      "out of fused_trainset: (262144, 768) (262144,) 1.17 sec\n",
      "forward pass b:0.65 (torch.Size([262144, 768])): Runtime: 0 min 3 sec\n",
      "epoch 1.675, train_loss: 0.08329\n",
      "out of fused_trainset: (262144, 768) (262144,) 1.11 sec\n",
      "forward pass b:0.675 (torch.Size([262144, 768])): Runtime: 0 min 3 sec\n",
      "epoch 1.700, train_loss: 0.08327\n",
      "out of fused_trainset: (262144, 768) (262144,) 1.10 sec\n",
      "forward pass b:0.7 (torch.Size([262144, 768])): Runtime: 0 min 3 sec\n",
      "epoch 1.725, train_loss: 0.08348\n",
      "out of fused_trainset: (262144, 768) (262144,) 1.06 sec\n",
      "forward pass b:0.725 (torch.Size([262144, 768])): Runtime: 0 min 3 sec\n",
      "epoch 1.750, train_loss: 0.08300\n",
      "out of fused_trainset: (262144, 768) (262144,) 1.17 sec\n",
      "forward pass b:0.75 (torch.Size([262144, 768])): Runtime: 0 min 3 sec\n",
      "epoch 1.775, train_loss: 0.08293\n",
      "out of fused_trainset: (262144, 768) (262144,) 1.10 sec\n",
      "forward pass b:0.775 (torch.Size([262144, 768])): Runtime: 0 min 3 sec\n",
      "epoch 1.800, train_loss: 0.08302\n",
      "out of fused_trainset: (262144, 768) (262144,) 1.08 sec\n",
      "forward pass b:0.8 (torch.Size([262144, 768])): Runtime: 0 min 3 sec\n",
      "epoch 1.825, train_loss: 0.08384\n",
      "out of fused_trainset: (262144, 768) (262144,) 1.15 sec\n",
      "forward pass b:0.825 (torch.Size([262144, 768])): Runtime: 0 min 3 sec\n",
      "epoch 1.850, train_loss: 0.08245\n",
      "out of fused_trainset: (262144, 768) (262144,) 1.14 sec\n",
      "forward pass b:0.85 (torch.Size([262144, 768])): Runtime: 0 min 3 sec\n",
      "epoch 1.875, train_loss: 0.08224\n",
      "out of fused_trainset: (262144, 768) (262144,) 1.11 sec\n",
      "forward pass b:0.875 (torch.Size([262144, 768])): Runtime: 0 min 3 sec\n",
      "epoch 1.900, train_loss: 0.08226\n",
      "out of fused_trainset: (262144, 768) (262144,) 1.09 sec\n",
      "forward pass b:0.9 (torch.Size([262144, 768])): Runtime: 0 min 3 sec\n",
      "epoch 1.925, train_loss: 0.08245\n",
      "out of fused_trainset: (262144, 768) (262144,) 1.09 sec\n",
      "forward pass b:0.925 (torch.Size([262144, 768])): Runtime: 0 min 3 sec\n",
      "epoch 1.950, train_loss: 0.08224\n",
      "out of fused_trainset: (262144, 768) (262144,) 1.07 sec\n",
      "forward pass b:0.95 (torch.Size([262144, 768])): Runtime: 0 min 3 sec\n",
      "epoch 1.975, train_loss: 0.08236\n",
      "out of fused_trainset: (262144, 768) (262144,) 1.16 sec\n",
      "forward pass b:0.975 (torch.Size([262144, 768])): Runtime: 0 min 3 sec\n",
      "epoch 2.000, train_loss: 0.08288\n",
      "Epoch [2.00], Loss: 0.0829\n"
     ]
    },
    {
     "data": {
      "image/png": "[encoded data removed]",
      "text/plain": [
       "<Figure size 600x220 with 1 Axes>"
      ]
     },
     "metadata": {},
     "output_type": "display_data"
    },
    {
     "name": "stdout",
     "output_type": "stream",
     "text": [
      "out of fused_trainset: (262144, 768) (262144,) 1.11 sec\n",
      "forward pass b:0.0 (torch.Size([262144, 768])): Runtime: 0 min 3 sec\n",
      "epoch 2.025, train_loss: 0.08282\n",
      "out of fused_trainset: (262144, 768) (262144,) 1.12 sec\n",
      "forward pass b:0.025 (torch.Size([262144, 768])): Runtime: 0 min 3 sec\n",
      "epoch 2.050, train_loss: 0.08227\n",
      "out of fused_trainset: (262144, 768) (262144,) 1.28 sec\n",
      "forward pass b:0.05 (torch.Size([262144, 768])): Runtime: 0 min 3 sec\n",
      "epoch 2.075, train_loss: 0.08268\n",
      "out of fused_trainset: (262144, 768) (262144,) 0.99 sec\n",
      "forward pass b:0.075 (torch.Size([262144, 768])): Runtime: 0 min 3 sec\n",
      "epoch 2.100, train_loss: 0.08267\n",
      "out of fused_trainset: (262144, 768) (262144,) 1.16 sec\n",
      "forward pass b:0.1 (torch.Size([262144, 768])): Runtime: 0 min 3 sec\n",
      "epoch 2.125, train_loss: 0.08219\n",
      "out of fused_trainset: (262144, 768) (262144,) 1.19 sec\n",
      "forward pass b:0.125 (torch.Size([262144, 768])): Runtime: 0 min 3 sec\n",
      "epoch 2.150, train_loss: 0.08301\n",
      "out of fused_trainset: (262144, 768) (262144,) 1.14 sec\n",
      "forward pass b:0.15 (torch.Size([262144, 768])): Runtime: 0 min 3 sec\n",
      "epoch 2.175, train_loss: 0.08220\n",
      "out of fused_trainset: (262144, 768) (262144,) 1.11 sec\n",
      "forward pass b:0.175 (torch.Size([262144, 768])): Runtime: 0 min 3 sec\n",
      "epoch 2.200, train_loss: 0.08256\n",
      "out of fused_trainset: (262144, 768) (262144,) 1.11 sec\n",
      "forward pass b:0.2 (torch.Size([262144, 768])): Runtime: 0 min 3 sec\n",
      "epoch 2.225, train_loss: 0.08291\n",
      "out of fused_trainset: (262144, 768) (262144,) 1.12 sec\n",
      "forward pass b:0.225 (torch.Size([262144, 768])): Runtime: 0 min 3 sec\n",
      "epoch 2.250, train_loss: 0.08315\n",
      "out of fused_trainset: (262144, 768) (262144,) 1.09 sec\n",
      "forward pass b:0.25 (torch.Size([262144, 768])): Runtime: 0 min 3 sec\n",
      "epoch 2.275, train_loss: 0.08250\n",
      "out of fused_trainset: (262144, 768) (262144,) 1.11 sec\n",
      "forward pass b:0.275 (torch.Size([262144, 768])): Runtime: 0 min 3 sec\n",
      "epoch 2.300, train_loss: 0.08244\n",
      "out of fused_trainset: (262144, 768) (262144,) 1.10 sec\n",
      "forward pass b:0.3 (torch.Size([262144, 768])): Runtime: 0 min 3 sec\n",
      "epoch 2.325, train_loss: 0.08268\n",
      "out of fused_trainset: (262144, 768) (262144,) 1.10 sec\n",
      "forward pass b:0.325 (torch.Size([262144, 768])): Runtime: 0 min 3 sec\n",
      "epoch 2.350, train_loss: 0.08268\n",
      "out of fused_trainset: (262144, 768) (262144,) 1.09 sec\n",
      "forward pass b:0.35 (torch.Size([262144, 768])): Runtime: 0 min 3 sec\n",
      "epoch 2.375, train_loss: 0.08189\n",
      "out of fused_trainset: (262144, 768) (262144,) 1.13 sec\n",
      "forward pass b:0.375 (torch.Size([262144, 768])): Runtime: 0 min 3 sec\n",
      "epoch 2.400, train_loss: 0.08225\n",
      "out of fused_trainset: (262144, 768) (262144,) 1.12 sec\n",
      "forward pass b:0.4 (torch.Size([262144, 768])): Runtime: 0 min 3 sec\n",
      "epoch 2.425, train_loss: 0.08323\n",
      "out of fused_trainset: (262144, 768) (262144,) 1.10 sec\n",
      "forward pass b:0.425 (torch.Size([262144, 768])): Runtime: 0 min 3 sec\n",
      "epoch 2.450, train_loss: 0.08305\n",
      "out of fused_trainset: (262144, 768) (262144,) 1.12 sec\n",
      "forward pass b:0.45 (torch.Size([262144, 768])): Runtime: 0 min 3 sec\n",
      "epoch 2.475, train_loss: 0.08202\n",
      "out of fused_trainset: (262144, 768) (262144,) 1.13 sec\n",
      "forward pass b:0.475 (torch.Size([262144, 768])): Runtime: 0 min 3 sec\n",
      "epoch 2.500, train_loss: 0.08302\n",
      "out of fused_trainset: (262144, 768) (262144,) 1.10 sec\n"
     ]
    },
    {
     "ename": "KeyboardInterrupt",
     "evalue": "",
     "output_type": "error",
     "traceback": [
      "\u001b[0;31m---------------------------------------------------------------------------\u001b[0m",
      "\u001b[0;31mKeyboardInterrupt\u001b[0m                         Traceback (most recent call last)",
      "File \u001b[0;32m<timed exec>:11\u001b[0m\n",
      "File \u001b[0;32m~/code/retrieval/utils/utils_train.py:70\u001b[0m, in \u001b[0;36mTwoTowerNetwork.fit\u001b[0;34m(self, qb_train, xb_train)\u001b[0m\n\u001b[1;32m     68\u001b[0m start \u001b[38;5;241m=\u001b[39m time\u001b[38;5;241m.\u001b[39mtime()\n\u001b[1;32m     69\u001b[0m \u001b[38;5;66;03m# Forward pass: compute predictions\u001b[39;00m\n\u001b[0;32m---> 70\u001b[0m logits, loss, _, _ \u001b[38;5;241m=\u001b[39m \u001b[38;5;28;43mself\u001b[39;49m\u001b[38;5;241;43m.\u001b[39;49m\u001b[43mforward\u001b[49m\u001b[43m(\u001b[49m\u001b[43mqb_batch\u001b[49m\u001b[43m,\u001b[49m\u001b[43m \u001b[49m\u001b[43mxb_batch\u001b[49m\u001b[43m,\u001b[49m\u001b[43m \u001b[49m\u001b[43mtargets_batch\u001b[49m\u001b[43m,\u001b[49m\u001b[43m \u001b[49m\u001b[43msample_weights\u001b[49m\u001b[43m)\u001b[49m\n\u001b[1;32m     71\u001b[0m \u001b[38;5;28mprint\u001b[39m(\u001b[38;5;124mf\u001b[39m\u001b[38;5;124m\"\u001b[39m\u001b[38;5;124mforward pass b:\u001b[39m\u001b[38;5;132;01m{\u001b[39;00mb\u001b[38;5;241m/\u001b[39mn\u001b[38;5;132;01m}\u001b[39;00m\u001b[38;5;124m (\u001b[39m\u001b[38;5;132;01m{\u001b[39;00mqb_batch\u001b[38;5;241m.\u001b[39mshape\u001b[38;5;132;01m}\u001b[39;00m\u001b[38;5;124m): \u001b[39m\u001b[38;5;132;01m{\u001b[39;00mprint_runtime(start,\u001b[38;5;28;01mFalse\u001b[39;00m)\u001b[38;5;132;01m}\u001b[39;00m\u001b[38;5;124m\"\u001b[39m)\n\u001b[1;32m     73\u001b[0m \u001b[38;5;66;03m# Backward pass and optimization\u001b[39;00m\n",
      "File \u001b[0;32m~/code/retrieval/utils/utils_train.py:49\u001b[0m, in \u001b[0;36mTwoTowerNetwork.forward\u001b[0;34m(self, qb_batch, xb_batch, targets_batch, sample_weights)\u001b[0m\n\u001b[1;32m     46\u001b[0m xb_output \u001b[38;5;241m=\u001b[39m \u001b[38;5;28mself\u001b[39m\u001b[38;5;241m.\u001b[39mxb_tower(xb_batch)\n\u001b[1;32m     47\u001b[0m out \u001b[38;5;241m=\u001b[39m torch\u001b[38;5;241m.\u001b[39mconcatenate((qb_output, xb_output), axis\u001b[38;5;241m=\u001b[39m\u001b[38;5;241m-\u001b[39m\u001b[38;5;241m1\u001b[39m) \u001b[38;5;66;03m# shape: (b, b, 2 * d)\u001b[39;00m\n\u001b[0;32m---> 49\u001b[0m logits \u001b[38;5;241m=\u001b[39m \u001b[38;5;28;43mself\u001b[39;49m\u001b[38;5;241;43m.\u001b[39;49m\u001b[43mmlp\u001b[49m\u001b[43m(\u001b[49m\u001b[43mout\u001b[49m\u001b[43m)\u001b[49m\u001b[38;5;241m.\u001b[39msqueeze(\u001b[38;5;241m-\u001b[39m\u001b[38;5;241m1\u001b[39m) \u001b[38;5;66;03m# shape: (b, b)\u001b[39;00m\n\u001b[1;32m     50\u001b[0m probs \u001b[38;5;241m=\u001b[39m F\u001b[38;5;241m.\u001b[39msigmoid(logits)\n\u001b[1;32m     51\u001b[0m loss \u001b[38;5;241m=\u001b[39m F\u001b[38;5;241m.\u001b[39mbinary_cross_entropy_with_logits(logits, targets_batch)\n",
      "File \u001b[0;32m~/code/retrieval/.venv/lib/python3.10/site-packages/torch/nn/modules/module.py:1532\u001b[0m, in \u001b[0;36mModule._wrapped_call_impl\u001b[0;34m(self, *args, **kwargs)\u001b[0m\n\u001b[1;32m   1530\u001b[0m     \u001b[38;5;28;01mreturn\u001b[39;00m \u001b[38;5;28mself\u001b[39m\u001b[38;5;241m.\u001b[39m_compiled_call_impl(\u001b[38;5;241m*\u001b[39margs, \u001b[38;5;241m*\u001b[39m\u001b[38;5;241m*\u001b[39mkwargs)  \u001b[38;5;66;03m# type: ignore[misc]\u001b[39;00m\n\u001b[1;32m   1531\u001b[0m \u001b[38;5;28;01melse\u001b[39;00m:\n\u001b[0;32m-> 1532\u001b[0m     \u001b[38;5;28;01mreturn\u001b[39;00m \u001b[38;5;28;43mself\u001b[39;49m\u001b[38;5;241;43m.\u001b[39;49m\u001b[43m_call_impl\u001b[49m\u001b[43m(\u001b[49m\u001b[38;5;241;43m*\u001b[39;49m\u001b[43margs\u001b[49m\u001b[43m,\u001b[49m\u001b[43m \u001b[49m\u001b[38;5;241;43m*\u001b[39;49m\u001b[38;5;241;43m*\u001b[39;49m\u001b[43mkwargs\u001b[49m\u001b[43m)\u001b[49m\n",
      "File \u001b[0;32m~/code/retrieval/.venv/lib/python3.10/site-packages/torch/nn/modules/module.py:1541\u001b[0m, in \u001b[0;36mModule._call_impl\u001b[0;34m(self, *args, **kwargs)\u001b[0m\n\u001b[1;32m   1536\u001b[0m \u001b[38;5;66;03m# If we don't have any hooks, we want to skip the rest of the logic in\u001b[39;00m\n\u001b[1;32m   1537\u001b[0m \u001b[38;5;66;03m# this function, and just call forward.\u001b[39;00m\n\u001b[1;32m   1538\u001b[0m \u001b[38;5;28;01mif\u001b[39;00m \u001b[38;5;129;01mnot\u001b[39;00m (\u001b[38;5;28mself\u001b[39m\u001b[38;5;241m.\u001b[39m_backward_hooks \u001b[38;5;129;01mor\u001b[39;00m \u001b[38;5;28mself\u001b[39m\u001b[38;5;241m.\u001b[39m_backward_pre_hooks \u001b[38;5;129;01mor\u001b[39;00m \u001b[38;5;28mself\u001b[39m\u001b[38;5;241m.\u001b[39m_forward_hooks \u001b[38;5;129;01mor\u001b[39;00m \u001b[38;5;28mself\u001b[39m\u001b[38;5;241m.\u001b[39m_forward_pre_hooks\n\u001b[1;32m   1539\u001b[0m         \u001b[38;5;129;01mor\u001b[39;00m _global_backward_pre_hooks \u001b[38;5;129;01mor\u001b[39;00m _global_backward_hooks\n\u001b[1;32m   1540\u001b[0m         \u001b[38;5;129;01mor\u001b[39;00m _global_forward_hooks \u001b[38;5;129;01mor\u001b[39;00m _global_forward_pre_hooks):\n\u001b[0;32m-> 1541\u001b[0m     \u001b[38;5;28;01mreturn\u001b[39;00m \u001b[43mforward_call\u001b[49m\u001b[43m(\u001b[49m\u001b[38;5;241;43m*\u001b[39;49m\u001b[43margs\u001b[49m\u001b[43m,\u001b[49m\u001b[43m \u001b[49m\u001b[38;5;241;43m*\u001b[39;49m\u001b[38;5;241;43m*\u001b[39;49m\u001b[43mkwargs\u001b[49m\u001b[43m)\u001b[49m\n\u001b[1;32m   1543\u001b[0m \u001b[38;5;28;01mtry\u001b[39;00m:\n\u001b[1;32m   1544\u001b[0m     result \u001b[38;5;241m=\u001b[39m \u001b[38;5;28;01mNone\u001b[39;00m\n",
      "File \u001b[0;32m~/code/retrieval/.venv/lib/python3.10/site-packages/torch/nn/modules/container.py:217\u001b[0m, in \u001b[0;36mSequential.forward\u001b[0;34m(self, input)\u001b[0m\n\u001b[1;32m    215\u001b[0m \u001b[38;5;28;01mdef\u001b[39;00m \u001b[38;5;21mforward\u001b[39m(\u001b[38;5;28mself\u001b[39m, \u001b[38;5;28minput\u001b[39m):\n\u001b[1;32m    216\u001b[0m     \u001b[38;5;28;01mfor\u001b[39;00m module \u001b[38;5;129;01min\u001b[39;00m \u001b[38;5;28mself\u001b[39m:\n\u001b[0;32m--> 217\u001b[0m         \u001b[38;5;28minput\u001b[39m \u001b[38;5;241m=\u001b[39m \u001b[43mmodule\u001b[49m\u001b[43m(\u001b[49m\u001b[38;5;28;43minput\u001b[39;49m\u001b[43m)\u001b[49m\n\u001b[1;32m    218\u001b[0m     \u001b[38;5;28;01mreturn\u001b[39;00m \u001b[38;5;28minput\u001b[39m\n",
      "File \u001b[0;32m~/code/retrieval/.venv/lib/python3.10/site-packages/torch/nn/modules/module.py:1532\u001b[0m, in \u001b[0;36mModule._wrapped_call_impl\u001b[0;34m(self, *args, **kwargs)\u001b[0m\n\u001b[1;32m   1530\u001b[0m     \u001b[38;5;28;01mreturn\u001b[39;00m \u001b[38;5;28mself\u001b[39m\u001b[38;5;241m.\u001b[39m_compiled_call_impl(\u001b[38;5;241m*\u001b[39margs, \u001b[38;5;241m*\u001b[39m\u001b[38;5;241m*\u001b[39mkwargs)  \u001b[38;5;66;03m# type: ignore[misc]\u001b[39;00m\n\u001b[1;32m   1531\u001b[0m \u001b[38;5;28;01melse\u001b[39;00m:\n\u001b[0;32m-> 1532\u001b[0m     \u001b[38;5;28;01mreturn\u001b[39;00m \u001b[38;5;28;43mself\u001b[39;49m\u001b[38;5;241;43m.\u001b[39;49m\u001b[43m_call_impl\u001b[49m\u001b[43m(\u001b[49m\u001b[38;5;241;43m*\u001b[39;49m\u001b[43margs\u001b[49m\u001b[43m,\u001b[49m\u001b[43m \u001b[49m\u001b[38;5;241;43m*\u001b[39;49m\u001b[38;5;241;43m*\u001b[39;49m\u001b[43mkwargs\u001b[49m\u001b[43m)\u001b[49m\n",
      "File \u001b[0;32m~/code/retrieval/.venv/lib/python3.10/site-packages/torch/nn/modules/module.py:1541\u001b[0m, in \u001b[0;36mModule._call_impl\u001b[0;34m(self, *args, **kwargs)\u001b[0m\n\u001b[1;32m   1536\u001b[0m \u001b[38;5;66;03m# If we don't have any hooks, we want to skip the rest of the logic in\u001b[39;00m\n\u001b[1;32m   1537\u001b[0m \u001b[38;5;66;03m# this function, and just call forward.\u001b[39;00m\n\u001b[1;32m   1538\u001b[0m \u001b[38;5;28;01mif\u001b[39;00m \u001b[38;5;129;01mnot\u001b[39;00m (\u001b[38;5;28mself\u001b[39m\u001b[38;5;241m.\u001b[39m_backward_hooks \u001b[38;5;129;01mor\u001b[39;00m \u001b[38;5;28mself\u001b[39m\u001b[38;5;241m.\u001b[39m_backward_pre_hooks \u001b[38;5;129;01mor\u001b[39;00m \u001b[38;5;28mself\u001b[39m\u001b[38;5;241m.\u001b[39m_forward_hooks \u001b[38;5;129;01mor\u001b[39;00m \u001b[38;5;28mself\u001b[39m\u001b[38;5;241m.\u001b[39m_forward_pre_hooks\n\u001b[1;32m   1539\u001b[0m         \u001b[38;5;129;01mor\u001b[39;00m _global_backward_pre_hooks \u001b[38;5;129;01mor\u001b[39;00m _global_backward_hooks\n\u001b[1;32m   1540\u001b[0m         \u001b[38;5;129;01mor\u001b[39;00m _global_forward_hooks \u001b[38;5;129;01mor\u001b[39;00m _global_forward_pre_hooks):\n\u001b[0;32m-> 1541\u001b[0m     \u001b[38;5;28;01mreturn\u001b[39;00m \u001b[43mforward_call\u001b[49m\u001b[43m(\u001b[49m\u001b[38;5;241;43m*\u001b[39;49m\u001b[43margs\u001b[49m\u001b[43m,\u001b[49m\u001b[43m \u001b[49m\u001b[38;5;241;43m*\u001b[39;49m\u001b[38;5;241;43m*\u001b[39;49m\u001b[43mkwargs\u001b[49m\u001b[43m)\u001b[49m\n\u001b[1;32m   1543\u001b[0m \u001b[38;5;28;01mtry\u001b[39;00m:\n\u001b[1;32m   1544\u001b[0m     result \u001b[38;5;241m=\u001b[39m \u001b[38;5;28;01mNone\u001b[39;00m\n",
      "File \u001b[0;32m~/code/retrieval/.venv/lib/python3.10/site-packages/torch/nn/modules/dropout.py:59\u001b[0m, in \u001b[0;36mDropout.forward\u001b[0;34m(self, input)\u001b[0m\n\u001b[1;32m     58\u001b[0m \u001b[38;5;28;01mdef\u001b[39;00m \u001b[38;5;21mforward\u001b[39m(\u001b[38;5;28mself\u001b[39m, \u001b[38;5;28minput\u001b[39m: Tensor) \u001b[38;5;241m-\u001b[39m\u001b[38;5;241m>\u001b[39m Tensor:\n\u001b[0;32m---> 59\u001b[0m     \u001b[38;5;28;01mreturn\u001b[39;00m \u001b[43mF\u001b[49m\u001b[38;5;241;43m.\u001b[39;49m\u001b[43mdropout\u001b[49m\u001b[43m(\u001b[49m\u001b[38;5;28;43minput\u001b[39;49m\u001b[43m,\u001b[49m\u001b[43m \u001b[49m\u001b[38;5;28;43mself\u001b[39;49m\u001b[38;5;241;43m.\u001b[39;49m\u001b[43mp\u001b[49m\u001b[43m,\u001b[49m\u001b[43m \u001b[49m\u001b[38;5;28;43mself\u001b[39;49m\u001b[38;5;241;43m.\u001b[39;49m\u001b[43mtraining\u001b[49m\u001b[43m,\u001b[49m\u001b[43m \u001b[49m\u001b[38;5;28;43mself\u001b[39;49m\u001b[38;5;241;43m.\u001b[39;49m\u001b[43minplace\u001b[49m\u001b[43m)\u001b[49m\n",
      "File \u001b[0;32m~/code/retrieval/.venv/lib/python3.10/site-packages/torch/nn/functional.py:1295\u001b[0m, in \u001b[0;36mdropout\u001b[0;34m(input, p, training, inplace)\u001b[0m\n\u001b[1;32m   1293\u001b[0m \u001b[38;5;28;01mif\u001b[39;00m p \u001b[38;5;241m<\u001b[39m \u001b[38;5;241m0.0\u001b[39m \u001b[38;5;129;01mor\u001b[39;00m p \u001b[38;5;241m>\u001b[39m \u001b[38;5;241m1.0\u001b[39m:\n\u001b[1;32m   1294\u001b[0m     \u001b[38;5;28;01mraise\u001b[39;00m \u001b[38;5;167;01mValueError\u001b[39;00m(\u001b[38;5;124mf\u001b[39m\u001b[38;5;124m\"\u001b[39m\u001b[38;5;124mdropout probability has to be between 0 and 1, but got \u001b[39m\u001b[38;5;132;01m{\u001b[39;00mp\u001b[38;5;132;01m}\u001b[39;00m\u001b[38;5;124m\"\u001b[39m)\n\u001b[0;32m-> 1295\u001b[0m \u001b[38;5;28;01mreturn\u001b[39;00m _VF\u001b[38;5;241m.\u001b[39mdropout_(\u001b[38;5;28minput\u001b[39m, p, training) \u001b[38;5;28;01mif\u001b[39;00m inplace \u001b[38;5;28;01melse\u001b[39;00m \u001b[43m_VF\u001b[49m\u001b[38;5;241;43m.\u001b[39;49m\u001b[43mdropout\u001b[49m\u001b[43m(\u001b[49m\u001b[38;5;28;43minput\u001b[39;49m\u001b[43m,\u001b[49m\u001b[43m \u001b[49m\u001b[43mp\u001b[49m\u001b[43m,\u001b[49m\u001b[43m \u001b[49m\u001b[43mtraining\u001b[49m\u001b[43m)\u001b[49m\n",
      "\u001b[0;31mKeyboardInterrupt\u001b[0m: "
     ]
    }
   ],
   "source": [
    "%%time\n",
    "## TRAIN\n",
    "# Hyperparameters\n",
    "num_epochs = 1\n",
    "\n",
    "for i in range(100):\n",
    "    config['batch_size'] = 512\n",
    "    # reshuffle the trainset at beginning of each epoch\n",
    "    (qb_train, _), (xb_train, _), (_) = shuffle_and_split(qb_train, xb_train, split=1)\n",
    "    \n",
    "    # train for 1 epoch\n",
    "    model.fit(qb_train, xb_train)\n",
    "\n",
    "    # # write output embeddings to use for eval\n",
    "    # write_output_embeddings(model, qb_test, xb_test) \n",
    "\n",
    "    # # run eval\n",
    "    # os.system('cd utils && python3 utils_infer.py')\n",
    "\n",
    "    # # read recall@3 metric written to json file\n",
    "    # with open('output/recall3.json', 'r') as file:\n",
    "    #     recall3 = json.load(file)['recall3']\n",
    "    #     list_recall3.append(recall3) \n",
    "\n",
    "    # # monitor metrics to plot recall.\n",
    "    # list_test_epochs.append(model.epochs[-1])\n",
    "\n",
    "    if (i+1) % 1 == 0:\n",
    "        plt.semilogy(model.epochs, model.train_loss, 'k', alpha=.7)\n",
    "        plt.show()\n"
   ]
  },
  {
   "cell_type": "code",
   "execution_count": 4,
   "id": "1f5d2806-4cb0-445c-8a6c-b5413229bca5",
   "metadata": {},
   "outputs": [
    {
     "data": {
      "text/plain": [
       "[<matplotlib.lines.Line2D at 0x2d00c5e10>]"
      ]
     },
     "execution_count": 4,
     "metadata": {},
     "output_type": "execute_result"
    },
    {
     "data": {
      "image/png": "[encoded data removed]",
      "text/plain": [
       "<Figure size 600x220 with 1 Axes>"
      ]
     },
     "metadata": {},
     "output_type": "display_data"
    }
   ],
   "source": [
    "        plt.semilogy(model.epochs, model.train_loss, 'k', alpha=.7)"
   ]
  },
  {
   "cell_type": "code",
   "execution_count": null,
   "id": "9f7b2cfb-a52f-48fd-ab92-feddff008457",
   "metadata": {},
   "outputs": [],
   "source": []
  },
  {
   "cell_type": "code",
   "execution_count": null,
   "id": "858f2868-b31d-48ca-93f2-e119b092dd8d",
   "metadata": {},
   "outputs": [],
   "source": []
  },
  {
   "cell_type": "code",
   "execution_count": 4,
   "id": "4a370684-b0f1-44a2-b30f-327ed3f442c6",
   "metadata": {},
   "outputs": [
    {
     "data": {
      "image/png": "[encoded data removed]",
      "text/plain": [
       "<Figure size 1000x220 with 2 Axes>"
      ]
     },
     "metadata": {},
     "output_type": "display_data"
    }
   ],
   "source": [
    "model.plot(qb_train, list_test_epochs, list_recall3)\n"
   ]
  },
  {
   "cell_type": "code",
   "execution_count": null,
   "id": "04136bea-0a36-46a9-98e2-d8be97443852",
   "metadata": {},
   "outputs": [],
   "source": [
    "# TODO:\n",
    "# 1. Incorporate a learning_rate scheduler\n",
    "# 2. print the top 3 results for hits. \n",
    "# 3. naive baseline on SBERT embeddings recall@3 = 0.745\n",
    "# 4. "
   ]
  },
  {
   "cell_type": "code",
   "execution_count": 10,
   "id": "70a1a5f3-bbc3-4767-a16d-629de692ca90",
   "metadata": {},
   "outputs": [],
   "source": [
    "write_output_embeddings(model, qb_test, xb_test) \n",
    "os.system('cd utils && python3 utils_infer.py')\n"
   ]
  },
  {
   "cell_type": "markdown",
   "id": "4bcfa3f3-1127-4928-a2f2-d2531b60232b",
   "metadata": {},
   "source": [
    "### The End"
   ]
  },
  {
   "cell_type": "code",
   "execution_count": null,
   "id": "e641eb90-9f8d-487d-a2c8-e2066835e60f",
   "metadata": {},
   "outputs": [],
   "source": [
    "# Load queries, ids_toys, ids_present\n",
    "with open('output/raw_queries.pkl', 'rb') as file:\n",
    "    queries, _, _ = pickle.load(file)\n",
    "\n",
    "with open('output/ids_toys.pkl', 'rb') as file:\n",
    "    ids_toys = pickle.load(file)\n",
    "    ids_present = [_id for _id in ids_toys if _id in query_embeddings]\n"
   ]
  },
  {
   "cell_type": "code",
   "execution_count": 5,
   "id": "d226e030-ccf8-4d8a-a2cf-424e6f1d75c8",
   "metadata": {},
   "outputs": [
    {
     "data": {
      "text/plain": [
       "\"I need to buy a Super-duper Tutu/Cape/Mask set in size 4-6 for my 4-6-year-old. It's a 3-piece set perfect for little Superheroines and Rock Stars!\""
      ]
     },
     "execution_count": 5,
     "metadata": {},
     "output_type": "execute_result"
    }
   ],
   "source": [
    "top_ids = [ids_present[idx_test[i]] for i in I[0]]\n",
    "names = [info[_id]['name'] for _id in top_ids]\n",
    "details = [info[_id]['details'] for _id in top_ids]\n",
    "description = [info[_id]['description'] for _id in top_ids]\n",
    "queries[ids_present[idx_test[0]]]"
   ]
  },
  {
   "cell_type": "code",
   "execution_count": null,
   "id": "30a7b84f-d36f-4669-8f19-ac35230a1561",
   "metadata": {},
   "outputs": [],
   "source": []
  },
  {
   "cell_type": "code",
   "execution_count": null,
   "id": "8199ad65-449e-4a6f-8c5b-82a342b11248",
   "metadata": {},
   "outputs": [],
   "source": []
  },
  {
   "cell_type": "code",
   "execution_count": null,
   "id": "f5923109-43cb-48f2-bd08-e5aaa69c04ac",
   "metadata": {},
   "outputs": [],
   "source": []
  },
  {
   "cell_type": "code",
   "execution_count": null,
   "id": "530fafa0-0cbe-4e41-b916-d612079d0c18",
   "metadata": {},
   "outputs": [],
   "source": []
  },
  {
   "cell_type": "code",
   "execution_count": null,
   "id": "7e99c46a-fbf4-40ef-bc89-38f8f393a224",
   "metadata": {},
   "outputs": [],
   "source": []
  },
  {
   "cell_type": "code",
   "execution_count": null,
   "id": "231588e9-3575-485e-8add-8e2558cb02da",
   "metadata": {},
   "outputs": [],
   "source": []
  },
  {
   "cell_type": "code",
   "execution_count": null,
   "id": "08b27e48-a25f-489a-8670-c6ffbf37cf17",
   "metadata": {},
   "outputs": [],
   "source": []
  },
  {
   "cell_type": "code",
   "execution_count": null,
   "id": "eb144b44-7a20-4017-a6f5-7fdba93b635e",
   "metadata": {},
   "outputs": [],
   "source": []
  },
  {
   "cell_type": "code",
   "execution_count": null,
   "id": "80e1c628-7ca9-4096-bec8-0fbfb0e62db4",
   "metadata": {},
   "outputs": [],
   "source": []
  },
  {
   "cell_type": "code",
   "execution_count": null,
   "id": "fb1603bb-0a04-431d-a3cf-ed9d9149b34e",
   "metadata": {},
   "outputs": [],
   "source": []
  },
  {
   "cell_type": "code",
   "execution_count": null,
   "id": "07ccfec4-d164-48df-b1ad-a05100acb4fc",
   "metadata": {},
   "outputs": [],
   "source": []
  },
  {
   "cell_type": "code",
   "execution_count": null,
   "id": "c0a938f7-7136-4192-b18e-d5b438078168",
   "metadata": {},
   "outputs": [],
   "source": []
  }
 ],
 "metadata": {
  "kernelspec": {
   "display_name": "Python 3 (ipykernel)",
   "language": "python",
   "name": "python3"
  },
  "language_info": {
   "codemirror_mode": {
    "name": "ipython",
    "version": 3
   },
   "file_extension": ".py",
   "mimetype": "text/x-python",
   "name": "python",
   "nbconvert_exporter": "python",
   "pygments_lexer": "ipython3",
   "version": "3.10.9"
  }
 },
 "nbformat": 4,
 "nbformat_minor": 5
}
